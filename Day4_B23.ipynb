{
 "cells": [
  {
   "cell_type": "code",
   "execution_count": null,
   "metadata": {},
   "outputs": [],
   "source": [
    "introducton to list datatype in pytthon:-\n",
    "    #list in an ordered collection of items.\n",
    "    #list define as a ---> []\n",
    "introducton to indexing in py:-\n",
    "    #access the name from list,\n",
    "    #enhcnment of the code (using title()),\n",
    "    #reassingnment:-\n",
    "          #adding(replace) the elements\n",
    "          #removal of the elements\n",
    "              #append() in py.. \n",
    "              #insert() in py..\n",
    "              #del() in py.\n",
    "              #pop() method in py.."
   ]
  },
  {
   "cell_type": "code",
   "execution_count": null,
   "metadata": {},
   "outputs": [],
   "source": []
  },
  {
   "cell_type": "code",
   "execution_count": null,
   "metadata": {},
   "outputs": [],
   "source": [
    "#list in an ordered collection of items."
   ]
  },
  {
   "cell_type": "code",
   "execution_count": 18,
   "metadata": {},
   "outputs": [
    {
     "name": "stdout",
     "output_type": "stream",
     "text": [
      "['python', 'c', 'c++', 'java', 'go']\n"
     ]
    }
   ],
   "source": [
    "lang = ['python','c','c++','java','go']\n",
    "\n",
    "print(lang)"
   ]
  },
  {
   "cell_type": "code",
   "execution_count": 19,
   "metadata": {},
   "outputs": [
    {
     "data": {
      "text/plain": [
       "list"
      ]
     },
     "execution_count": 19,
     "metadata": {},
     "output_type": "execute_result"
    }
   ],
   "source": [
    "type(lang)"
   ]
  },
  {
   "cell_type": "code",
   "execution_count": null,
   "metadata": {},
   "outputs": [],
   "source": []
  },
  {
   "cell_type": "code",
   "execution_count": null,
   "metadata": {},
   "outputs": [],
   "source": [
    "introducton to indexing in py."
   ]
  },
  {
   "cell_type": "code",
   "execution_count": null,
   "metadata": {},
   "outputs": [],
   "source": [
    "#access the name from list.."
   ]
  },
  {
   "cell_type": "code",
   "execution_count": 20,
   "metadata": {},
   "outputs": [
    {
     "name": "stdout",
     "output_type": "stream",
     "text": [
      "c++\n"
     ]
    }
   ],
   "source": [
    "print(lang[2])"
   ]
  },
  {
   "cell_type": "code",
   "execution_count": 21,
   "metadata": {},
   "outputs": [
    {
     "name": "stdout",
     "output_type": "stream",
     "text": [
      "C++\n"
     ]
    }
   ],
   "source": [
    " #enhcnment of the code,\n",
    "    \n",
    "print(lang[2].title())   "
   ]
  },
  {
   "cell_type": "code",
   "execution_count": null,
   "metadata": {},
   "outputs": [],
   "source": []
  },
  {
   "cell_type": "code",
   "execution_count": null,
   "metadata": {},
   "outputs": [],
   "source": [
    "reassingnment:-\n",
    "          #adding(replace) the elements\n",
    "          #removal of the elements"
   ]
  },
  {
   "cell_type": "code",
   "execution_count": 22,
   "metadata": {},
   "outputs": [
    {
     "name": "stdout",
     "output_type": "stream",
     "text": [
      "['python', 'c', 'c++', 'java', 'go']\n"
     ]
    }
   ],
   "source": [
    "#adding(replace) the elements..\n",
    "\n",
    "print(lang)"
   ]
  },
  {
   "cell_type": "code",
   "execution_count": 23,
   "metadata": {},
   "outputs": [
    {
     "name": "stdout",
     "output_type": "stream",
     "text": [
      "['python', 'c', 'c++', 'c#', 'go']\n"
     ]
    }
   ],
   "source": [
    "lang[3] ='c#'\n",
    "\n",
    "print(lang)"
   ]
  },
  {
   "cell_type": "code",
   "execution_count": 26,
   "metadata": {},
   "outputs": [
    {
     "name": "stdout",
     "output_type": "stream",
     "text": [
      "['python', 'c', 'c++', 'c#', 'go', 'js']\n"
     ]
    }
   ],
   "source": [
    "#append() in py..\n",
    "print(lang)"
   ]
  },
  {
   "cell_type": "code",
   "execution_count": 25,
   "metadata": {},
   "outputs": [
    {
     "name": "stdout",
     "output_type": "stream",
     "text": [
      "['python', 'c', 'c++', 'c#', 'go', 'js']\n"
     ]
    }
   ],
   "source": [
    "lang.append('js')\n",
    "print(lang)"
   ]
  },
  {
   "cell_type": "code",
   "execution_count": 27,
   "metadata": {},
   "outputs": [
    {
     "name": "stdout",
     "output_type": "stream",
     "text": [
      "['python', 'c', 'c++', 'c#', 'go', 'js', 'css']\n"
     ]
    }
   ],
   "source": [
    "lang.append('css')\n",
    "print(lang)"
   ]
  },
  {
   "cell_type": "code",
   "execution_count": 28,
   "metadata": {},
   "outputs": [
    {
     "name": "stdout",
     "output_type": "stream",
     "text": [
      "['python', 'c', 'php', 'c++', 'c#', 'go', 'js', 'css']\n"
     ]
    }
   ],
   "source": [
    "#insert() in py..\n",
    "\n",
    "lang.insert(2,'php')\n",
    "print(lang)"
   ]
  },
  {
   "cell_type": "code",
   "execution_count": null,
   "metadata": {},
   "outputs": [],
   "source": []
  },
  {
   "cell_type": "code",
   "execution_count": 29,
   "metadata": {},
   "outputs": [
    {
     "name": "stdout",
     "output_type": "stream",
     "text": [
      "['python', 'c', 'php', 'c++', 'c#', 'go', 'js', 'css']\n",
      "['python', 'c', 'php', 'c#', 'go', 'js', 'css']\n"
     ]
    }
   ],
   "source": [
    "#del() in py..\n",
    "print(lang)\n",
    "del lang[3]\n",
    "print(lang)"
   ]
  },
  {
   "cell_type": "code",
   "execution_count": 30,
   "metadata": {},
   "outputs": [
    {
     "name": "stdout",
     "output_type": "stream",
     "text": [
      "['python', 'c', 'php', 'c#', 'go', 'js']\n",
      "css\n"
     ]
    }
   ],
   "source": [
    "#pop method in py...\n",
    "\n",
    "x = lang.pop()\n",
    "print(lang)\n",
    "print(x)"
   ]
  },
  {
   "cell_type": "code",
   "execution_count": 31,
   "metadata": {},
   "outputs": [
    {
     "name": "stdout",
     "output_type": "stream",
     "text": [
      "['python', 'c', 'c#', 'go', 'js']\n",
      "php\n"
     ]
    }
   ],
   "source": [
    "y = lang.pop(2)\n",
    "print(lang)\n",
    "print(y)"
   ]
  },
  {
   "cell_type": "code",
   "execution_count": null,
   "metadata": {},
   "outputs": [],
   "source": []
  }
 ],
 "metadata": {
  "kernelspec": {
   "display_name": "Python 3",
   "language": "python",
   "name": "python3"
  },
  "language_info": {
   "codemirror_mode": {
    "name": "ipython",
    "version": 3
   },
   "file_extension": ".py",
   "mimetype": "text/x-python",
   "name": "python",
   "nbconvert_exporter": "python",
   "pygments_lexer": "ipython3",
   "version": "3.7.6"
  }
 },
 "nbformat": 4,
 "nbformat_minor": 4
}
