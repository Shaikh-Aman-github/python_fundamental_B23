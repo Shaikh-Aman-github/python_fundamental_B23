{
 "cells": [
  {
   "cell_type": "code",
   "execution_count": null,
   "metadata": {},
   "outputs": [],
   "source": [
    "introduction to looping statment in python \n",
    "   #for loop\n",
    "   #introduction to organising the list(there are two types)\n",
    "        #1) temp way (sorted())\n",
    "        #2) per way (sort())"
   ]
  },
  {
   "cell_type": "code",
   "execution_count": null,
   "metadata": {},
   "outputs": [],
   "source": []
  },
  {
   "cell_type": "code",
   "execution_count": 1,
   "metadata": {},
   "outputs": [],
   "source": [
    "whatsapp_friends = ['srk','salman','amir','varun','ranveer'] "
   ]
  },
  {
   "cell_type": "code",
   "execution_count": 3,
   "metadata": {},
   "outputs": [
    {
     "name": "stdout",
     "output_type": "stream",
     "text": [
      "thanks for joining this group, salman\n"
     ]
    }
   ],
   "source": [
    "#ex:- to say thanks for joining this group.\n",
    "\n",
    "print(f\"thanks for joining this group, {whatsapp_friends[1]}\")"
   ]
  },
  {
   "cell_type": "code",
   "execution_count": 4,
   "metadata": {},
   "outputs": [
    {
     "name": "stdout",
     "output_type": "stream",
     "text": [
      "thanks for joining this group, srk\n"
     ]
    }
   ],
   "source": [
    "print(f\"thanks for joining this group, {whatsapp_friends[0]}\")"
   ]
  },
  {
   "cell_type": "code",
   "execution_count": 5,
   "metadata": {},
   "outputs": [
    {
     "name": "stdout",
     "output_type": "stream",
     "text": [
      "thanks for joining this group, srk\n",
      "thanks for joining this group, salman\n",
      "thanks for joining this group, amir\n",
      "thanks for joining this group, varun\n",
      "thanks for joining this group, ranveer\n"
     ]
    }
   ],
   "source": [
    "#ex:- to say thanks for joining this group to all at a time.\n",
    "\n",
    "for friends in whatsapp_friends:\n",
    "    print(f\"thanks for joining this group, {friends}\")"
   ]
  },
  {
   "cell_type": "code",
   "execution_count": null,
   "metadata": {},
   "outputs": [],
   "source": []
  },
  {
   "cell_type": "code",
   "execution_count": 12,
   "metadata": {},
   "outputs": [
    {
     "name": "stdout",
     "output_type": "stream",
     "text": [
      "thanks you are great, srk\n",
      "thanks you are great, salman\n",
      "thanks you are great, amir\n",
      "thanks you are great, varun\n",
      "thanks you are great, ranveer\n"
     ]
    }
   ],
   "source": [
    "# ex:- to appreciate to joining this group & title()\n",
    "\n",
    "for x in whatsapp_friends:\n",
    "    print(f\"thanks you are great, {x}\")"
   ]
  },
  {
   "cell_type": "code",
   "execution_count": null,
   "metadata": {},
   "outputs": [],
   "source": []
  },
  {
   "cell_type": "code",
   "execution_count": 14,
   "metadata": {},
   "outputs": [
    {
     "name": "stdout",
     "output_type": "stream",
     "text": [
      "thanks you are great, Srk\n",
      "thanks you are great, Salman\n",
      "thanks you are great, Amir\n",
      "thanks you are great, Varun\n",
      "thanks you are great, Ranveer\n"
     ]
    }
   ],
   "source": [
    "for x in whatsapp_friends:\n",
    "    print(f\"thanks you are great, {x.title()}\")"
   ]
  },
  {
   "cell_type": "code",
   "execution_count": null,
   "metadata": {},
   "outputs": [],
   "source": []
  },
  {
   "cell_type": "code",
   "execution_count": 16,
   "metadata": {},
   "outputs": [
    {
     "name": "stdout",
     "output_type": "stream",
     "text": [
      "thanks you are great, Srk\n",
      "I will be send you all notes on this group, Srk\n",
      "thanks you are great, Salman\n",
      "I will be send you all notes on this group, Salman\n",
      "thanks you are great, Amir\n",
      "I will be send you all notes on this group, Amir\n",
      "thanks you are great, Varun\n",
      "I will be send you all notes on this group, Varun\n",
      "thanks you are great, Ranveer\n",
      "I will be send you all notes on this group, Ranveer\n"
     ]
    }
   ],
   "source": [
    "for x in whatsapp_friends:\n",
    "    print(f\"thanks you are great, {x.title()}\")\n",
    "    print(f\"I will be send you all notes on this group, {x.title()}\")"
   ]
  },
  {
   "cell_type": "code",
   "execution_count": 17,
   "metadata": {},
   "outputs": [
    {
     "name": "stdout",
     "output_type": "stream",
     "text": [
      "thanks you are great, Srk\n",
      "I will be send you all notes on this group, Srk\n",
      "\n",
      "thanks you are great, Salman\n",
      "I will be send you all notes on this group, Salman\n",
      "\n",
      "thanks you are great, Amir\n",
      "I will be send you all notes on this group, Amir\n",
      "\n",
      "thanks you are great, Varun\n",
      "I will be send you all notes on this group, Varun\n",
      "\n",
      "thanks you are great, Ranveer\n",
      "I will be send you all notes on this group, Ranveer\n",
      "\n"
     ]
    }
   ],
   "source": [
    "for x in whatsapp_friends:\n",
    "    print(f\"thanks you are great, {x.title()}\")\n",
    "    print(f\"I will be send you all notes on this group, {x.title()}\\n\")"
   ]
  },
  {
   "cell_type": "code",
   "execution_count": null,
   "metadata": {},
   "outputs": [],
   "source": []
  },
  {
   "cell_type": "code",
   "execution_count": 20,
   "metadata": {},
   "outputs": [
    {
     "name": "stdout",
     "output_type": "stream",
     "text": [
      "thanks you are great, Srk\n",
      "I will be send you all notes on this group, Srk\n",
      "\n",
      "thanks you are great, Salman\n",
      "I will be send you all notes on this group, Salman\n",
      "\n",
      "thanks you are great, Amir\n",
      "I will be send you all notes on this group, Amir\n",
      "\n",
      "thanks you are great, Varun\n",
      "I will be send you all notes on this group, Varun\n",
      "\n",
      "thanks you are great, Ranveer\n",
      "I will be send you all notes on this group, Ranveer\n",
      "\n",
      "thank you\n"
     ]
    }
   ],
   "source": [
    "for x in whatsapp_friends:\n",
    "    print(f\"thanks you are great, {x.title()}\")\n",
    "    print(f\"I will be send you all notes on this group, {x.title()}\\n\")\n",
    "    \n",
    "print('thank you')        "
   ]
  },
  {
   "cell_type": "code",
   "execution_count": null,
   "metadata": {},
   "outputs": [],
   "source": []
  },
  {
   "cell_type": "code",
   "execution_count": null,
   "metadata": {},
   "outputs": [],
   "source": [
    "  #introduction to organising the list(there are two types)\n",
    "        #1) temp way (sorted())\n",
    "        #2) per way (sort())"
   ]
  },
  {
   "cell_type": "code",
   "execution_count": 22,
   "metadata": {},
   "outputs": [
    {
     "name": "stdout",
     "output_type": "stream",
     "text": [
      "['srk', 'salman', 'amir', 'varun', 'ranveer']\n",
      "['amir', 'ranveer', 'salman', 'srk', 'varun']\n"
     ]
    }
   ],
   "source": [
    "#1) temp way (sorted())\n",
    "\n",
    "print(whatsapp_friends)\n",
    "\n",
    "print(sorted(whatsapp_friends))"
   ]
  },
  {
   "cell_type": "code",
   "execution_count": 23,
   "metadata": {},
   "outputs": [
    {
     "name": "stdout",
     "output_type": "stream",
     "text": [
      "['srk', 'salman', 'amir', 'varun', 'ranveer']\n",
      "['amir', 'ranveer', 'salman', 'srk', 'varun']\n"
     ]
    }
   ],
   "source": [
    "#2) per way (sort())\n",
    "\n",
    "print(whatsapp_friends)\n",
    "\n",
    "\n",
    "whatsapp_friends.sort()\n",
    "print(whatsapp_friends)"
   ]
  },
  {
   "cell_type": "code",
   "execution_count": null,
   "metadata": {},
   "outputs": [],
   "source": []
  }
 ],
 "metadata": {
  "kernelspec": {
   "display_name": "Python 3",
   "language": "python",
   "name": "python3"
  },
  "language_info": {
   "codemirror_mode": {
    "name": "ipython",
    "version": 3
   },
   "file_extension": ".py",
   "mimetype": "text/x-python",
   "name": "python",
   "nbconvert_exporter": "python",
   "pygments_lexer": "ipython3",
   "version": "3.7.6"
  }
 },
 "nbformat": 4,
 "nbformat_minor": 4
}
